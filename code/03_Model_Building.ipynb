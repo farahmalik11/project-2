{
 "cells": [
  {
   "cell_type": "markdown",
   "id": "c3754c5e-cf77-47ac-ac81-0120f9cb3cb7",
   "metadata": {},
   "source": [
    "# Ames Housing Data: Modelling\n",
    "---\n",
    "\n",
    "## I. Model Building and Testing\n",
    "---"
   ]
  },
  {
   "cell_type": "code",
   "execution_count": null,
   "id": "8d672eab-164c-4bd4-b46a-9f2a01e987ac",
   "metadata": {},
   "outputs": [],
   "source": [
    "feats_initial = ['Overall Qual', 'Year Built', 'Year Remod/Add', 'BsmtFin SF 1', 'Total Bsmt SF', 'Gr Liv Area', 'Full Bath', 'Fireplaces', 'Garage Area']\n",
    "def mod_iteration(feats):\n",
    "    X = hs[feats]\n",
    "    y = hs['SalePrice']\n",
    "    X_train, X_test, y_train, y_test = train_test_split(X, y, random_state = 531)\n",
    "    lr = LinearRegression()\n",
    "    lr.fit(X_train, y_train)\n",
    "    train_score = lr.score(X_train, y_train)\n",
    "    test_score = lr.score(X_test, y_test)\n",
    "    y_preds = lr.predict(X_test)\n",
    "    MSE = metrics.mean_squared_error(y_test, y_preds)\n",
    "    RMSE = metrics.mean_squared_error(y_test, y_preds, squared=False)\n",
    "        \n",
    "    for i, coef in zip(X.columns, lr.coef_):\n",
    "        print(f\"{i}: {coef}\")\n",
    "    print(f\"{lr.intercept_}\")\n",
    "    \n",
    "    return f\"Training R2: {lr.score(X_train, y_train)}, Testing R2: {lr.score(X_test, y_test)}, MSE: {MSE}, RMSE: {RMSE}\"\n",
    "    \n",
    "mod_iteration(feats_initial)"
   ]
  },
  {
   "cell_type": "code",
   "execution_count": null,
   "id": "63e99138-ef81-48ec-b527-e971d9c441b3",
   "metadata": {},
   "outputs": [],
   "source": [
    "def mod_runon_all(feats):\n",
    "    X = hs[feats]\n",
    "    y = hs['SalePrice']\n",
    "    lr_all = LinearRegression()\n",
    "    lr_all.fit(X, y)\n",
    "    y_preds_all = lr_all.predict(hs_test[feats])\n",
    "    hs_test['SalePrice'] = y_preds_all\n",
    "        \n",
    "    for i, coef in zip(X.columns, lr_all.coef_):\n",
    "        print(f\"{i}: {coef}\")\n",
    "    print(f\"{lr_all.intercept_}\")\n",
    "    \n",
    "    return f\"R2: {lr_all.score(X, y)}\"\n",
    "\n",
    "mod_runon_all(feats_initial)"
   ]
  },
  {
   "cell_type": "code",
   "execution_count": null,
   "id": "a87f468d-3492-4a5b-a7e6-bcce1096fe70",
   "metadata": {},
   "outputs": [],
   "source": [
    "submit = hs_test[['Id', 'SalePrice']]"
   ]
  },
  {
   "cell_type": "code",
   "execution_count": null,
   "id": "c2fc652e-c364-4112-96c4-2aedb15bd1ff",
   "metadata": {},
   "outputs": [],
   "source": [
    "submit.head()"
   ]
  },
  {
   "cell_type": "code",
   "execution_count": null,
   "id": "11b00fa8-0e5c-403e-a425-1887e17d6885",
   "metadata": {},
   "outputs": [],
   "source": [
    "submit.set_index('Id', inplace=True)"
   ]
  },
  {
   "cell_type": "code",
   "execution_count": null,
   "id": "89a662fa-b7f0-4f8b-b18d-c1c8e96f0e00",
   "metadata": {},
   "outputs": [],
   "source": [
    "submit.head()"
   ]
  },
  {
   "cell_type": "code",
   "execution_count": null,
   "id": "a0e060af-059a-410b-998e-5dd163366d3d",
   "metadata": {},
   "outputs": [],
   "source": [
    "submit.to_csv('../datasets/Submissions/initial_features_submission.csv')"
   ]
  },
  {
   "cell_type": "code",
   "execution_count": null,
   "id": "2336342b-2580-4345-913f-d7c9334b1f71",
   "metadata": {},
   "outputs": [],
   "source": [
    "feats_initial = ['Overall Qual', 'Year Built', 'Year Remod/Add', 'BsmtFin SF 1', 'Total Bsmt SF', 'Gr Liv Area', 'Full Bath', 'Fireplaces', 'Garage Area']\n",
    "def log_mod_iteration(feats):\n",
    "    X = hs[feats]\n",
    "    y = hs['log_price']\n",
    "    X_train, X_test, y_train, y_test = train_test_split(X, y, random_state = 531)\n",
    "    lr = LinearRegression()\n",
    "    lr.fit(X_train, y_train)\n",
    "    train_score = lr.score(X_train, y_train)\n",
    "    test_score = lr.score(X_test, y_test)\n",
    "    y_preds = lr.predict(X_test)\n",
    "    MSE = metrics.mean_squared_error(y_test, y_preds)\n",
    "    RMSE = metrics.mean_squared_error(y_test, y_preds, squared=False)\n",
    "        \n",
    "    for i, coef in zip(X.columns, lr.coef_):\n",
    "        print(f\"{i}: {coef}\")\n",
    "    print(f\"{lr.intercept_}\")\n",
    "    \n",
    "    return f\"Training R2: {lr.score(X_train, y_train)}, Testing R2: {lr.score(X_test, y_test)}, MSE: {MSE}, RMSE: {RMSE}\"\n",
    "    \n",
    "log_mod_iteration(feats_initial)"
   ]
  },
  {
   "cell_type": "code",
   "execution_count": null,
   "id": "bf7b8344-8281-4268-90d8-9311a4e041c4",
   "metadata": {},
   "outputs": [],
   "source": [
    "def log_mod_runon_all(feats):\n",
    "    X = hs[feats]\n",
    "    y = hs['log_price']\n",
    "    lr_all = LinearRegression()\n",
    "    lr_all.fit(X, y)\n",
    "    y_preds_all = lr_all.predict(hs_test[feats])\n",
    "    hs_test['SalePrice'] = y_preds_all\n",
    "        \n",
    "    for i, coef in zip(X.columns, lr_all.coef_):\n",
    "        print(f\"{i}: {coef}\")\n",
    "    print(f\"{lr_all.intercept_}\")\n",
    "    \n",
    "    return f\"R2: {lr_all.score(X, y)}\"\n",
    "\n",
    "log_mod_runon_all(feats_initial)"
   ]
  },
  {
   "cell_type": "code",
   "execution_count": null,
   "id": "48bb8b96-e815-4f1f-be12-cab72244af1c",
   "metadata": {},
   "outputs": [],
   "source": []
  },
  {
   "cell_type": "code",
   "execution_count": null,
   "id": "84dd5733-133c-4c57-a66d-b3a545162b85",
   "metadata": {},
   "outputs": [],
   "source": []
  },
  {
   "cell_type": "code",
   "execution_count": null,
   "id": "2df64bd6-1a96-472f-8923-b4beef7c0fdd",
   "metadata": {},
   "outputs": [],
   "source": []
  },
  {
   "cell_type": "code",
   "execution_count": null,
   "id": "6d8cbadc-234a-431d-bfe9-25476e9b907a",
   "metadata": {},
   "outputs": [],
   "source": []
  },
  {
   "cell_type": "code",
   "execution_count": null,
   "id": "f556c1cb-aa5a-442e-9501-417197f35c90",
   "metadata": {},
   "outputs": [],
   "source": []
  },
  {
   "cell_type": "code",
   "execution_count": null,
   "id": "5bbee711-bddf-479b-8242-33bb9580cce2",
   "metadata": {},
   "outputs": [],
   "source": []
  },
  {
   "cell_type": "code",
   "execution_count": null,
   "id": "19eed793-f602-4269-8a7a-089c62d9aada",
   "metadata": {},
   "outputs": [],
   "source": []
  },
  {
   "cell_type": "code",
   "execution_count": null,
   "id": "437917ad-b5e1-4d8e-ab90-4304b64ab85b",
   "metadata": {},
   "outputs": [],
   "source": []
  },
  {
   "cell_type": "code",
   "execution_count": null,
   "id": "3e2a31c3-d1b8-4186-953a-997f0b24b7d9",
   "metadata": {},
   "outputs": [],
   "source": []
  },
  {
   "cell_type": "code",
   "execution_count": null,
   "id": "4e364e3f-934b-4a79-b962-32408ec774ed",
   "metadata": {},
   "outputs": [],
   "source": []
  }
 ],
 "metadata": {
  "kernelspec": {
   "display_name": "Python 3 (ipykernel)",
   "language": "python",
   "name": "python3"
  },
  "language_info": {
   "codemirror_mode": {
    "name": "ipython",
    "version": 3
   },
   "file_extension": ".py",
   "mimetype": "text/x-python",
   "name": "python",
   "nbconvert_exporter": "python",
   "pygments_lexer": "ipython3",
   "version": "3.10.9"
  }
 },
 "nbformat": 4,
 "nbformat_minor": 5
}
