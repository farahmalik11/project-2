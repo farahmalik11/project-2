{
 "cells": [
  {
   "cell_type": "markdown",
   "id": "c3754c5e-cf77-47ac-ac81-0120f9cb3cb7",
   "metadata": {},
   "source": [
    "# Ames Housing Data: Modelling\n",
    "---\n",
    "\n",
    "## I. Model Building and Testing\n",
    "---"
   ]
  },
  {
   "cell_type": "code",
   "execution_count": 1,
   "id": "b69bbb86-16de-4612-8830-ebb471de161d",
   "metadata": {},
   "outputs": [],
   "source": [
    "import numpy as np\n",
    "import pandas as pd\n",
    "import matplotlib.pyplot as plt\n",
    "import seaborn as sns\n",
    "# import missingno as msno\n",
    "\n",
    "from sklearn.linear_model import LinearRegression, RidgeCV, LassoCV\n",
    "from sklearn import metrics \n",
    "from sklearn.model_selection import train_test_split, cross_val_score\n",
    "from sklearn.preprocessing import StandardScaler, OneHotEncoder #, PolynomialFeatures\n",
    "# from sklearn.compose import ColumnTransformer\n",
    "# from sklearn.neighbors import KNeighborsClassifier\n",
    "\n",
    "import datetime"
   ]
  },
  {
   "cell_type": "code",
   "execution_count": 2,
   "id": "30bab665-97ab-4855-a3f4-698327d091f6",
   "metadata": {},
   "outputs": [],
   "source": [
    "hs = pd.read_csv('../datasets/Clean/train.csv')\n",
    "hs_test = pd.read_csv('../datasets/Clean/test.csv')"
   ]
  },
  {
   "cell_type": "code",
   "execution_count": 3,
   "id": "51678c8b-846d-43fe-bb49-373d2ef1e50f",
   "metadata": {},
   "outputs": [
    {
     "name": "stdout",
     "output_type": "stream",
     "text": [
      "['Id', 'ms_subclass', 'ms_zoning', 'lot_frontage', 'lot_area', 'street', 'lot_shape', 'land_contour', 'utilities', 'lot_config', 'land_slope', 'neighborhood', 'condition_1', 'condition_2', 'bldg_type', 'house_style', 'overall_qual', 'overall_cond', 'year_built', 'year_remod', 'roof_style', 'roof_matl', 'exterior_1st', 'exterior_2nd', 'mas_vnr_type', 'mas_vnr_area', 'exter_qual', 'exter_cond', 'foundation', 'bsmt_qual', 'bsmt_cond', 'bsmt_exposure', 'bsmtfin_type_1', 'bsmtfin_sf_1', 'bsmtfin_type_2', 'bsmtfin_sf_2', 'bsmt_unf_sf', 'total_bsmt_sf', 'heating', 'heating_qc', 'central_air', 'electrical', '1st_flr_sf', '2nd_flr_sf', 'low_qual_fin_sf', 'gr_liv_area', 'bsmt_full_bath', 'bsmt_half_bath', 'full_bath', 'half_bath', 'bedroom_abvgr', 'kitchen_abvgr', 'kitchen_qual', 'totrms_abvgrd', 'functional', 'fireplaces', 'fireplace_qu', 'garage_type', 'garage_yr_blt', 'garage_finish', 'garage_cars', 'garage_area', 'garage_qual', 'garage_cond', 'paved_drive', 'wood_deck_sf', 'open_porch_sf', 'enclosed_porch', '3ssn_porch', 'screen_porch', 'pool_area', 'misc_val', 'mo_sold', 'yr_sold', 'sale_type', 'SalePrice', 'overall_qual_cond', 'age', 'age_adj', 'was_remod', 'bsmt_cond_num', 'log_price', 'bsmt_cat', 'bsmt_cat_finished', 'bsmt_cat_unfinished', 'grg_qual_num', 'garage_cat', 'garage_cat_finished', 'garage_cat_unfinished', 'fireplace_cat', 'fireplace_cat_hi_qual', 'fireplace_cat_low_qual', 'kitchen_qual_Fa', 'kitchen_qual_Gd', 'kitchen_qual_TA', 'cond12', 'cond12_feeder_st', 'cond12_near_park', 'cond12_near_rr', 'cond12_norm', 'lotconfig', 'lotconfig_culdsac', 'lotconfig_inside', 'hi_bsmt_exposure', 'has_pool', 'amenities_scr', 'nbr_med', 'nbr_qual', 'ext_qu_scr', 'nbr_ext', 'func_scr', 'nbr_func', 'nbr_amen', 'nbr_rank'] "
     ]
    }
   ],
   "source": [
    "pd.set_option('display.max_columns', 1000)\n",
    "print(hs.columns.tolist(), end=\" \")"
   ]
  },
  {
   "cell_type": "code",
   "execution_count": 4,
   "id": "00468720-5921-479a-846c-b89802a503dc",
   "metadata": {},
   "outputs": [],
   "source": [
    "# UPDATE FEATURES FOR TESTING HERE\n",
    "feats_updated = ['overall_qual', 'year_built', 'year_remod', 'total_bsmt_sf', 'gr_liv_area', 'full_bath', 'fireplaces', 'age', 'garage_area', 'kitchen_qual_Fa',\n",
    " 'kitchen_qual_Gd', 'kitchen_qual_TA', 'was_remod', 'bsmt_cat_finished','bsmt_cat_unfinished', 'grg_qual_num', 'garage_cat_finished', 'garage_cat_unfinished', 'cond12_feeder_st',\n",
    " 'cond12_near_park', 'cond12_near_rr', 'cond12_norm', 'lotconfig_culdsac', 'lotconfig_inside', 'hi_bsmt_exposure', 'nbr_rank']"
   ]
  },
  {
   "cell_type": "markdown",
   "id": "974444d5-b957-4101-b2b1-ff696fa70578",
   "metadata": {
    "tags": []
   },
   "source": [
    "### Modelling Sale Price (Not Log Transformed)"
   ]
  },
  {
   "cell_type": "code",
   "execution_count": 5,
   "id": "8d672eab-164c-4bd4-b46a-9f2a01e987ac",
   "metadata": {},
   "outputs": [
    {
     "name": "stdout",
     "output_type": "stream",
     "text": [
      "overall_qual: 11968.811813500542\n",
      "year_built: -350.97358679281257\n",
      "year_remod: 178.57242205684673\n",
      "total_bsmt_sf: 33.89030292727547\n",
      "gr_liv_area: 52.7116961463897\n",
      "full_bath: -8242.235192230459\n",
      "fireplaces: 6724.39613179342\n",
      "age: -515.689687872751\n",
      "garage_area: 43.26384218895882\n",
      "kitchen_qual_Fa: -54131.27796334144\n",
      "kitchen_qual_Gd: -52487.16789398767\n",
      "kitchen_qual_TA: -57266.73408818462\n",
      "was_remod: 8620.634674153202\n",
      "bsmt_cat_finished: -21633.15879992531\n",
      "bsmt_cat_unfinished: -31122.77411498547\n",
      "grg_qual_num: 9514.049344319392\n",
      "garage_cat_finished: -34260.88822052657\n",
      "garage_cat_unfinished: -34943.03250356009\n",
      "cond12_feeder_st: 8091.490014363354\n",
      "cond12_near_park: 28535.396383037347\n",
      "cond12_near_rr: 10555.166512402857\n",
      "cond12_norm: 12994.632119788877\n",
      "lotconfig_culdsac: 10451.268224975585\n",
      "lotconfig_inside: 1023.6598948232844\n",
      "hi_bsmt_exposure: 10867.301638715573\n",
      "nbr_rank: 1549.66139866835\n",
      "intercept: 379064.43169823266\n"
     ]
    },
    {
     "data": {
      "text/plain": [
       "'Training R2: 0.8801071212533926, Testing R2: 0.8710146049538188, MSE: 764756771.8888963, RMSE: 27654.23605686652'"
      ]
     },
     "execution_count": 5,
     "metadata": {},
     "output_type": "execute_result"
    }
   ],
   "source": [
    "def mod_iteration(feats):\n",
    "    \n",
    "    # Fit regression to X_train and y_train (75% of training.csv)\n",
    "    X = hs[feats]\n",
    "    y = hs['SalePrice']\n",
    "    X_train, X_test, y_train, y_test = train_test_split(X, y, random_state = 531)\n",
    "    lr = LinearRegression()\n",
    "    lr.fit(X_train, y_train)\n",
    "    \n",
    "    # Predict SalePrice for 25% testing data within train.csv and compare to truth to get residuals\n",
    "    y_preds = lr.predict(X_test)\n",
    "    MSE = metrics.mean_squared_error(y_test, y_preds)\n",
    "    RMSE = metrics.mean_squared_error(y_test, y_preds, squared=False)\n",
    "        \n",
    "    for i, coef in zip(X.columns, lr.coef_):\n",
    "        print(f\"{i}: {coef}\")\n",
    "    print(f\"intercept: {lr.intercept_}\")\n",
    "    \n",
    "    return f\"Training R2: {lr.score(X_train, y_train)}, Testing R2: {lr.score(X_test, y_test)}, MSE: {MSE}, RMSE: {RMSE}\"\n",
    "    \n",
    "mod_iteration(feats_updated)"
   ]
  },
  {
   "cell_type": "code",
   "execution_count": 6,
   "id": "63e99138-ef81-48ec-b527-e971d9c441b3",
   "metadata": {},
   "outputs": [
    {
     "name": "stdout",
     "output_type": "stream",
     "text": [
      "overall_qual: 12315.39092250356\n",
      "year_built: -550.7827459455575\n",
      "year_remod: 201.20428865982905\n",
      "total_bsmt_sf: 33.89630121189707\n",
      "gr_liv_area: 53.30002893636158\n",
      "full_bath: -7954.517101227186\n",
      "fireplaces: 6896.424727395184\n",
      "age: -702.3287508636138\n",
      "garage_area: 41.352757616707855\n",
      "kitchen_qual_Fa: -52091.56661918211\n",
      "kitchen_qual_Gd: -51928.867136748646\n",
      "kitchen_qual_TA: -55603.27525338432\n",
      "was_remod: 8084.878348721583\n",
      "bsmt_cat_finished: -17903.659632606166\n",
      "bsmt_cat_unfinished: -27825.453046849052\n",
      "grg_qual_num: 6032.196108411356\n",
      "garage_cat_finished: -24492.689418144815\n",
      "garage_cat_unfinished: -25979.26751480429\n",
      "cond12_feeder_st: 4486.534961553298\n",
      "cond12_near_park: 22516.574951005234\n",
      "cond12_near_rr: 6009.260236228417\n",
      "cond12_norm: 10571.81508951031\n",
      "lotconfig_culdsac: 9674.441487087695\n",
      "lotconfig_inside: -424.9186121698786\n",
      "hi_bsmt_exposure: 11512.567116312723\n",
      "nbr_rank: 1475.6232003489029\n",
      "intercept: 733217.8189078611\n",
      "null_MSE: 6209949084.095235, null_RMSE: 78803.2301628254\n"
     ]
    },
    {
     "data": {
      "text/plain": [
       "'Full Data R2: 0.8783938399951442, MSE = 755168061.9424928, RMSE = 27480.321358064444'"
      ]
     },
     "execution_count": 6,
     "metadata": {},
     "output_type": "execute_result"
    }
   ],
   "source": [
    "def mod_runon_all(feats):\n",
    "    \n",
    "    # Fit regression to entire data\n",
    "    X = hs[feats]\n",
    "    y = hs['SalePrice']\n",
    "    lr_all = LinearRegression()\n",
    "    lr_all.fit(X, y)\n",
    "    \n",
    "    # Predict SalePrice for entire data and compare to truth to get residuals\n",
    "    y_preds_all = lr_all.predict(hs[feats])\n",
    "    y_true = hs['SalePrice'] #Can use var from entire dataset\n",
    "    MSE = metrics.mean_squared_error(y_true, y_preds_all)\n",
    "    RMSE = metrics.mean_squared_error(y_true, y_preds_all, squared=False)\n",
    "    \n",
    "    # Use regression to predict SalePrice on Test.csv (unseen) data\n",
    "    y_preds_all_test = lr_all.predict(hs_test[feats])\n",
    "    hs_test['SalePrice'] = y_preds_all_test\n",
    "    \n",
    "    # Null model for comparison\n",
    "    hs['null_pred'] = np.mean(y)\n",
    "    null_pred = hs['null_pred']\n",
    "    null_MSE = metrics.mean_squared_error(y_true, null_pred)\n",
    "    null_RMSE = metrics.mean_squared_error(y_true, null_pred, squared=False)\n",
    "    \n",
    "    #Submit Predictions to Kaggle\n",
    "    submit = hs_test[['Id', 'SalePrice']]\n",
    "    submit.set_index('Id', inplace=True)\n",
    "    dt = datetime.datetime.now().strftime(\"%m%d%Y%H\")\n",
    "    submit.to_csv(f'../datasets/Submissions/Features_Submission-{dt}.csv')\n",
    "        \n",
    "    for i, coef in zip(X.columns, lr_all.coef_):\n",
    "        print(f\"{i}: {coef}\")\n",
    "    print(f\"intercept: {lr_all.intercept_}\")\n",
    "    print(f\"null_MSE: {null_MSE}, null_RMSE: {null_RMSE}\")\n",
    "    \n",
    "    return f\"Full Data R2: {lr_all.score(X, y)}, MSE = {MSE}, RMSE = {RMSE}\"\n",
    "\n",
    "mod_runon_all(feats_updated)"
   ]
  },
  {
   "cell_type": "markdown",
   "id": "70be0808-15ec-45a9-a8d3-cc89e615c2a4",
   "metadata": {},
   "source": [
    "### Modelling Sale Price (Log Transformed)"
   ]
  },
  {
   "cell_type": "code",
   "execution_count": 7,
   "id": "2336342b-2580-4345-913f-d7c9334b1f71",
   "metadata": {},
   "outputs": [
    {
     "name": "stdout",
     "output_type": "stream",
     "text": [
      "overall_qual: 1.0652899468860169\n",
      "year_built: 0.9974293102625212\n",
      "year_remod: 1.0020394205819831\n",
      "total_bsmt_sf: 1.000144750054229\n",
      "gr_liv_area: 1.0002573735553357\n",
      "full_bath: 0.9853799720381564\n",
      "fireplaces: 1.0520894038300466\n",
      "age: 0.9965020241929878\n",
      "garage_area: 1.0001360819100704\n",
      "kitchen_qual_Fa: 0.833149471052506\n",
      "kitchen_qual_Gd: 0.9062403849700669\n",
      "kitchen_qual_TA: 0.875750340677795\n",
      "was_remod: 1.0104580138701016\n",
      "bsmt_cat_finished: 1.011526745224659\n",
      "bsmt_cat_unfinished: 0.9434323505423419\n",
      "grg_qual_num: 1.065723145327647\n",
      "garage_cat_finished: 0.9225192140019572\n",
      "garage_cat_unfinished: 0.9054621463126891\n",
      "cond12_feeder_st: 1.0683359991349752\n",
      "cond12_near_park: 1.1614438355263488\n",
      "cond12_near_rr: 1.0814552213606787\n",
      "cond12_norm: 1.0974132793724154\n",
      "lotconfig_culdsac: 1.0296320884029058\n",
      "lotconfig_inside: 0.9935256927877539\n",
      "hi_bsmt_exposure: 1.0362133500536257\n",
      "nbr_rank: 1.0064750820671917\n",
      "intercept: 168662.3642301317\n"
     ]
    },
    {
     "data": {
      "text/plain": [
       "'Training R2: 0.9027066907883885, Testing R2: 0.8469346326344672, MSE: 646650684.6715598, RMSE: 25429.32725558346'"
      ]
     },
     "execution_count": 7,
     "metadata": {},
     "output_type": "execute_result"
    }
   ],
   "source": [
    "def log_mod_iteration(feats):\n",
    "    \n",
    "    # Fit regression to X_train and y_train (75% of training.csv)\n",
    "    X = hs[feats]\n",
    "    y = hs['log_price']\n",
    "    X_train, X_test, y_train, y_test = train_test_split(X, y, random_state = 531)\n",
    "    lr = LinearRegression()\n",
    "    lr.fit(X_train, y_train)\n",
    "        \n",
    "    # Predict SalePrice for 25% testing data within train.csv and compare to truth to get residuals\n",
    "    y_preds = np.exp(lr.predict(X_test)) # Undoing the logged price\n",
    "    MSE = metrics.mean_squared_error(np.exp(y_test), y_preds)\n",
    "    RMSE = metrics.mean_squared_error(np.exp(y_test), y_preds, squared=False)\n",
    "        \n",
    "    for i, coef in zip(X.columns, np.exp(lr.coef_)):\n",
    "        print(f\"{i}: {coef}\")\n",
    "    print(f\"intercept: {np.exp(lr.intercept_)}\")\n",
    "    \n",
    "    return f\"Training R2: {lr.score(X_train, y_train)}, Testing R2: {lr.score(X_test, y_test)}, MSE: {MSE}, RMSE: {RMSE}\"\n",
    "    \n",
    "log_mod_iteration(feats_updated)"
   ]
  },
  {
   "cell_type": "code",
   "execution_count": 8,
   "id": "bf7b8344-8281-4268-90d8-9311a4e041c4",
   "metadata": {},
   "outputs": [
    {
     "name": "stdout",
     "output_type": "stream",
     "text": [
      "overall_qual: 1.0700044474922827\n",
      "year_built: 0.995966660473269\n",
      "year_remod: 1.0020249902646061\n",
      "total_bsmt_sf: 1.0001450608060531\n",
      "gr_liv_area: 1.000262913671798\n",
      "full_bath: 0.9825204135480938\n",
      "fireplaces: 1.0491404286946246\n",
      "age: 0.9951758871327632\n",
      "garage_area: 1.0001120666758458\n",
      "kitchen_qual_Fa: 0.8358095681887513\n",
      "kitchen_qual_Gd: 0.9114755884314091\n",
      "kitchen_qual_TA: 0.8882442964550927\n",
      "was_remod: 1.01180134774983\n",
      "bsmt_cat_finished: 1.0345746437414591\n",
      "bsmt_cat_unfinished: 0.9608666836599141\n",
      "grg_qual_num: 1.069009566005959\n",
      "garage_cat_finished: 0.9127696831938725\n",
      "garage_cat_unfinished: 0.8903533790078164\n",
      "cond12_feeder_st: 1.0555217604870832\n",
      "cond12_near_park: 1.135677042787556\n",
      "cond12_near_rr: 1.0589808407380914\n",
      "cond12_norm: 1.0820369337840932\n",
      "lotconfig_culdsac: 1.0220627791521084\n",
      "lotconfig_inside: 0.9861029420627985\n",
      "hi_bsmt_exposure: 1.0410245317703117\n",
      "nbr_rank: 1.006934041446833\n",
      "intercept: 3180680.766252608\n",
      "null_MSE: 6410615844.843487, null_RMSE: 80066.32153935565\n"
     ]
    },
    {
     "data": {
      "text/plain": [
       "'Full Data R2: 0.8891974819498465, MSE = 546453367.2372748, RMSE = 23376.342041416035'"
      ]
     },
     "execution_count": 8,
     "metadata": {},
     "output_type": "execute_result"
    }
   ],
   "source": [
    "def log_mod_runon_all(feats):\n",
    "    \n",
    "    # Fit regression to entire data\n",
    "    X = hs[feats]\n",
    "    y = hs['log_price']\n",
    "    lr_all = LinearRegression()\n",
    "    lr_all.fit(X, y)\n",
    "    \n",
    "    # Predict SalePrice for entire data and compare to truth to get residuals\n",
    "    y_preds_all = np.exp(lr_all.predict(hs[feats]))\n",
    "    y_true = hs['SalePrice'] #Can use var from entire dataset\n",
    "    MSE = metrics.mean_squared_error(y_true, y_preds_all)\n",
    "    RMSE = metrics.mean_squared_error(y_true, y_preds_all, squared=False)\n",
    "    \n",
    "    # Use regression to predict SalePrice on Test.csv (unseen) data\n",
    "    y_preds_all_test = np.exp(lr_all.predict(hs_test[feats]))\n",
    "    hs_test['SalePrice'] = y_preds_all_test\n",
    "    \n",
    "    # Null model for comparison\n",
    "    hs['null_pred'] = np.exp(np.mean(y))\n",
    "    null_pred = hs['null_pred']\n",
    "    null_MSE = metrics.mean_squared_error(y_true, null_pred)\n",
    "    null_RMSE = metrics.mean_squared_error(y_true, null_pred, squared=False)\n",
    "    \n",
    "    #Submit Predictions to Kaggle\n",
    "    submit = hs_test[['Id', 'SalePrice']]\n",
    "    submit.set_index('Id', inplace=True)\n",
    "    dt = datetime.datetime.now().strftime(\"%m%d%Y%H\")\n",
    "    submit.to_csv(f'../datasets/Submissions/Features_Submission_logy-{dt}.csv')\n",
    "        \n",
    "    for i, coef in zip(X.columns, np.exp(lr_all.coef_)):\n",
    "        print(f\"{i}: {coef}\")\n",
    "    print(f\"intercept: {np.exp(lr_all.intercept_)}\")\n",
    "    print(f\"null_MSE: {null_MSE}, null_RMSE: {null_RMSE}\")\n",
    "    \n",
    "    return f\"Full Data R2: {lr_all.score(X, y)}, MSE = {MSE}, RMSE = {RMSE}\"\n",
    "\n",
    "log_mod_runon_all(feats_updated)"
   ]
  },
  {
   "cell_type": "markdown",
   "id": "dd6f1814-ce0d-4d19-96fe-469aefed655d",
   "metadata": {},
   "source": [
    "---\n",
    "### II. Regularization\n",
    "Our model is overfit, as reflected by the R^2 for our training data being comfortably higher than the R^2 on our testing data. This indicates that our model is not doing as well on unseen data."
   ]
  },
  {
   "cell_type": "markdown",
   "id": "5908376e-68ee-4ead-9e3b-0964f241715a",
   "metadata": {},
   "source": [
    "#### Ridge CV"
   ]
  },
  {
   "cell_type": "code",
   "execution_count": 9,
   "id": "7b61d07e-270a-4a58-a675-4ff9b7cd7cbc",
   "metadata": {},
   "outputs": [
    {
     "name": "stdout",
     "output_type": "stream",
     "text": [
      "overall_qual: 1.0939220739005142\n",
      "year_built: 1.0040755902306637\n",
      "year_remod: 1.04140889428045\n",
      "total_bsmt_sf: 1.068896287760467\n",
      "gr_liv_area: 1.130277752658832\n",
      "full_bath: 0.9990403216193918\n",
      "fireplaces: 1.0325838321293963\n",
      "age: 0.9815993923209081\n",
      "garage_area: 1.0287925411210734\n",
      "kitchen_qual_Fa: 0.9746523159954423\n",
      "kitchen_qual_Gd: 0.9635254189291536\n",
      "kitchen_qual_TA: 0.9524809579886162\n",
      "was_remod: 1.0074591450994759\n",
      "bsmt_cat_finished: 1.0121097642957746\n",
      "bsmt_cat_unfinished: 0.9813774961844252\n",
      "grg_qual_num: 1.019773950160603\n",
      "garage_cat_finished: 1.0087295744366764\n",
      "garage_cat_unfinished: 0.9932542232391477\n",
      "cond12_feeder_st: 1.0065305360764778\n",
      "cond12_near_park: 1.017656082728806\n",
      "cond12_near_rr: 1.0106457226048629\n",
      "cond12_norm: 1.0232917584382524\n",
      "lotconfig_culdsac: 1.0039756971461884\n",
      "lotconfig_inside: 0.9936471852136411\n",
      "hi_bsmt_exposure: 1.018813569413983\n",
      "nbr_rank: 1.040701465228548\n",
      "intercept: 168613.18234487195\n"
     ]
    },
    {
     "data": {
      "text/plain": [
       "'Training R2: 0.9027254341349968, Testing R2: 0.839338444201079, MSE: 602963159.0604529, RMSE: 24555.308164640348'"
      ]
     },
     "execution_count": 9,
     "metadata": {},
     "output_type": "execute_result"
    }
   ],
   "source": [
    "def log_mod_iteration_rreg(feats):\n",
    "    \n",
    "    # Fit regression to X_train and y_train (75% of training.csv)\n",
    "    X = hs[feats]\n",
    "    y = hs['log_price']\n",
    "    X_train, X_test, y_train, y_test = train_test_split(X, y, random_state = 602)\n",
    "    \n",
    "    # Scale features\n",
    "    sc = StandardScaler()\n",
    "    Z_train = sc.fit_transform(X_train)\n",
    "    Z_test = sc.transform(X_test)\n",
    "    \n",
    "    # Run Ridge Regression\n",
    "    r_alphas = np.logspace(0, 5, 150)\n",
    "    ridge_cv = RidgeCV(alphas = r_alphas, scoring = 'r2', cv = 10)\n",
    "    ridge_cv.fit(Z_train, y_train)\n",
    "            \n",
    "    # Predict SalePrice for 25% testing data within train.csv and compare to truth to get residuals\n",
    "    y_preds = np.exp(ridge_cv.predict(Z_test)) # Undoing the logged price\n",
    "    MSE = metrics.mean_squared_error(np.exp(y_test), y_preds)\n",
    "    RMSE = metrics.mean_squared_error(np.exp(y_test), y_preds, squared=False)\n",
    "        \n",
    "    for i, coef in zip(X.columns, np.exp(ridge_cv.coef_)):\n",
    "        print(f\"{i}: {coef}\")\n",
    "    print(f\"intercept: {np.exp(ridge_cv.intercept_)}\")\n",
    "    \n",
    "    return f\"Training R2: {ridge_cv.score(Z_train, y_train)}, Testing R2: {ridge_cv.score(Z_test, y_test)}, MSE: {MSE}, RMSE: {RMSE}\"\n",
    "    \n",
    "log_mod_iteration_rreg(feats_updated)"
   ]
  },
  {
   "cell_type": "code",
   "execution_count": 10,
   "id": "85d683b5-e9b4-46d2-8a00-d12ca95dcfa8",
   "metadata": {},
   "outputs": [
    {
     "name": "stdout",
     "output_type": "stream",
     "text": [
      "overall_qual: 1.0992338071239376\n",
      "year_built: 1.0017788882893603\n",
      "year_remod: 1.042831164938939\n",
      "total_bsmt_sf: 1.0632978744993025\n",
      "gr_liv_area: 1.1339008996049866\n",
      "full_bath: 0.9918202497708329\n",
      "fireplaces: 1.0316074361236327\n",
      "age: 0.977453834472778\n",
      "garage_area: 1.0248227320433363\n",
      "kitchen_qual_Fa: 0.976005246027994\n",
      "kitchen_qual_Gd: 0.9596957142957249\n",
      "kitchen_qual_TA: 0.946915411562688\n",
      "was_remod: 1.0054774287918284\n",
      "bsmt_cat_finished: 1.0164468973281113\n",
      "bsmt_cat_unfinished: 0.9826399951812711\n",
      "grg_qual_num: 1.0341269779578652\n",
      "garage_cat_finished: 0.9847683203681766\n",
      "garage_cat_unfinished: 0.9721834983876779\n",
      "cond12_feeder_st: 1.0105824740298153\n",
      "cond12_near_park: 1.0167522522698196\n",
      "cond12_near_rr: 1.0092103211098131\n",
      "cond12_norm: 1.0251934357072556\n",
      "lotconfig_culdsac: 1.0056837798213347\n",
      "lotconfig_inside: 0.9941845934470174\n",
      "hi_bsmt_exposure: 1.0178420016003606\n",
      "nbr_rank: 1.0376121500256643\n",
      "intercept: 168371.1380929812\n",
      "null_MSE: 6410615844.843487, null_RMSE: 80066.32153935565\n"
     ]
    },
    {
     "data": {
      "text/plain": [
       "'Full Data R2: 0.8888500552096913, MSE = 549697671.558395, RMSE = 23445.632249064965'"
      ]
     },
     "execution_count": 10,
     "metadata": {},
     "output_type": "execute_result"
    }
   ],
   "source": [
    "def log_mod_runon_all_rreg(feats):\n",
    "    \n",
    "    # Fit regression to entire data\n",
    "    X = hs[feats]\n",
    "    y = hs['log_price']\n",
    "    \n",
    "    # Scale features\n",
    "    sc_all = StandardScaler()\n",
    "    Z_all = sc_all.fit_transform(X)\n",
    "    \n",
    "    # Run Ridge Regression\n",
    "    r_alphas = np.logspace(0, 5, 150)\n",
    "    ridge_cv_all = RidgeCV(alphas = r_alphas, scoring = 'r2', cv = 10)\n",
    "    ridge_cv_all.fit(Z_all, y)\n",
    "    \n",
    "    # Predict SalePrice for entire data and compare to truth to get residuals\n",
    "    y_preds_all = np.exp(ridge_cv_all.predict(Z_all)) # Undoing the logged price\n",
    "    y_true = hs['SalePrice'] #Can use var from entire dataset\n",
    "    MSE = metrics.mean_squared_error(y_true, y_preds_all)\n",
    "    RMSE = metrics.mean_squared_error(y_true, y_preds_all, squared=False)\n",
    "    \n",
    "    # Use regression to predict SalePrice on Test.csv (unseen) data\n",
    "    # first standard scale\n",
    "    Z_all_test = sc_all.transform(hs_test[feats])\n",
    "    y_preds_all_test = np.exp(ridge_cv_all.predict(Z_all_test))\n",
    "    hs_test['SalePrice'] = y_preds_all_test\n",
    "   \n",
    "    # Null model for comparison\n",
    "    hs['null_pred'] = np.exp(np.mean(y))\n",
    "    null_pred = hs['null_pred']\n",
    "    null_MSE = metrics.mean_squared_error(y_true, null_pred)\n",
    "    null_RMSE = metrics.mean_squared_error(y_true, null_pred, squared=False)\n",
    "    \n",
    "    #Submit Predictions to Kaggle\n",
    "    submit = hs_test[['Id', 'SalePrice']]\n",
    "    submit.set_index('Id', inplace=True)\n",
    "    dt = datetime.datetime.now().strftime(\"%m%d%Y%H\")\n",
    "    submit.to_csv(f'../datasets/Submissions/Features_Submission_logy_ridreg-{dt}.csv')\n",
    "        \n",
    "    for i, coef in zip(X.columns, np.exp(ridge_cv_all.coef_)):\n",
    "        print(f\"{i}: {coef}\")\n",
    "    print(f\"intercept: {np.exp(ridge_cv_all.intercept_)}\")\n",
    "    print(f\"null_MSE: {null_MSE}, null_RMSE: {null_RMSE}\")\n",
    "\n",
    "    return f\"Full Data R2: {ridge_cv_all.score(Z_all, y)}, MSE = {MSE}, RMSE = {RMSE}\"\n",
    "\n",
    "log_mod_runon_all_rreg(feats_updated)"
   ]
  },
  {
   "cell_type": "markdown",
   "id": "d8cd7b19-b026-4089-839c-d506c964958f",
   "metadata": {},
   "source": [
    "#### Lasso CV"
   ]
  },
  {
   "cell_type": "code",
   "execution_count": 11,
   "id": "c50c5373-9955-4b0e-a2df-ec7573419f32",
   "metadata": {},
   "outputs": [
    {
     "name": "stdout",
     "output_type": "stream",
     "text": [
      "overall_qual: 1.095207606711407\n",
      "year_built: 1.0\n",
      "year_remod: 1.0421699122488812\n",
      "total_bsmt_sf: 1.0699795934204925\n",
      "gr_liv_area: 1.1345203668060504\n",
      "full_bath: 0.9968019525205888\n",
      "fireplaces: 1.0314377884067751\n",
      "age: 0.9777985096677214\n",
      "garage_area: 1.026621838768843\n",
      "kitchen_qual_Fa: 0.9735469501769448\n",
      "kitchen_qual_Gd: 0.9601079654447746\n",
      "kitchen_qual_TA: 0.9491842316973975\n",
      "was_remod: 1.0069739277598346\n",
      "bsmt_cat_finished: 1.0089843813241626\n",
      "bsmt_cat_unfinished: 0.9782572062956736\n",
      "grg_qual_num: 1.0211802408502437\n",
      "garage_cat_finished: 1.0064658570927951\n",
      "garage_cat_unfinished: 0.9918917099338413\n",
      "cond12_feeder_st: 1.0069465603061687\n",
      "cond12_near_park: 1.0178312802948228\n",
      "cond12_near_rr: 1.011200725566524\n",
      "cond12_norm: 1.0241230291034187\n",
      "lotconfig_culdsac: 1.0036357555871471\n",
      "lotconfig_inside: 0.9936886787456994\n",
      "hi_bsmt_exposure: 1.018539212462399\n",
      "nbr_rank: 1.0404575391788615\n",
      "intercept: 168613.18234487195\n"
     ]
    },
    {
     "data": {
      "text/plain": [
       "'Training R2: 0.9028759755281921, Testing R2: 0.8398431721526514, MSE: 598578322.833467, RMSE: 24465.86035342855'"
      ]
     },
     "execution_count": 11,
     "metadata": {},
     "output_type": "execute_result"
    }
   ],
   "source": [
    "def log_mod_iteration_lreg(feats):\n",
    "    \n",
    "    # Fit regression to X_train and y_train (75% of training.csv)\n",
    "    X = hs[feats]\n",
    "    y = hs['log_price']\n",
    "    X_train, X_test, y_train, y_test = train_test_split(X, y, random_state = 602)\n",
    "    \n",
    "    # Scale features\n",
    "    sc = StandardScaler()\n",
    "    Z_train = sc.fit_transform(X_train)\n",
    "    Z_test = sc.transform(X_test)\n",
    "    \n",
    "    # Run Lasso Regression\n",
    "    l_alphas = np.logspace(-5, 0, 150)\n",
    "    lasso_cv = LassoCV(alphas = l_alphas, cv = 10, max_iter=75_000)\n",
    "    lasso_cv.fit(Z_train, y_train)\n",
    "            \n",
    "    # Predict SalePrice for 25% testing data within train.csv and compare to truth to get residuals\n",
    "    y_preds = np.exp(lasso_cv.predict(Z_test)) # Undoing the logged price\n",
    "    MSE = metrics.mean_squared_error(np.exp(y_test), y_preds)\n",
    "    RMSE = metrics.mean_squared_error(np.exp(y_test), y_preds, squared=False)\n",
    "        \n",
    "    for i, coef in zip(X.columns, np.exp(lasso_cv.coef_)):\n",
    "        print(f\"{i}: {coef}\")\n",
    "    print(f\"intercept: {np.exp(lasso_cv.intercept_)}\")\n",
    "    \n",
    "    return f\"Training R2: {lasso_cv.score(Z_train, y_train)}, Testing R2: {lasso_cv.score(Z_test, y_test)}, MSE: {MSE}, RMSE: {RMSE}\"\n",
    "    \n",
    "log_mod_iteration_lreg(feats_updated)"
   ]
  },
  {
   "cell_type": "code",
   "execution_count": 12,
   "id": "4ad6751a-dbe9-46ec-8f2b-2c82db34d397",
   "metadata": {},
   "outputs": [
    {
     "name": "stdout",
     "output_type": "stream",
     "text": [
      "overall_qual: 1.0992659042333657\n",
      "year_built: 0.8960777025216187\n",
      "year_remod: 1.043125108037677\n",
      "total_bsmt_sf: 1.063449111246463\n",
      "gr_liv_area: 1.1359702782601557\n",
      "full_bath: 0.9903866675273476\n",
      "fireplaces: 1.0309210186672475\n",
      "age: 0.874900452945303\n",
      "garage_area: 1.0241286727004475\n",
      "kitchen_qual_Fa: 0.9745252092262509\n",
      "kitchen_qual_Gd: 0.9557836158537262\n",
      "kitchen_qual_TA: 0.9426114281669364\n",
      "was_remod: 1.005827128431337\n",
      "bsmt_cat_finished: 1.0159320877945202\n",
      "bsmt_cat_unfinished: 0.9820446308788322\n",
      "grg_qual_num: 1.0472890971310522\n",
      "garage_cat_finished: 0.9566669791874701\n",
      "garage_cat_unfinished: 0.9455335269049371\n",
      "cond12_feeder_st: 1.011883668886837\n",
      "cond12_near_park: 1.01758649277348\n",
      "cond12_near_rr: 1.0101893369316692\n",
      "cond12_norm: 1.0273635837172632\n",
      "lotconfig_culdsac: 1.0053561154129154\n",
      "lotconfig_inside: 0.9938582370958154\n",
      "hi_bsmt_exposure: 1.0173388939215262\n",
      "nbr_rank: 1.0377655569390885\n",
      "intercept: 168371.1380929812\n",
      "null_MSE: 6410615844.843487, null_RMSE: 80066.32153935565\n"
     ]
    },
    {
     "data": {
      "text/plain": [
       "'Full Data R2: 0.8891958486538678, MSE = 546493452.084716, RMSE = 23377.19940635995'"
      ]
     },
     "execution_count": 12,
     "metadata": {},
     "output_type": "execute_result"
    }
   ],
   "source": [
    "def log_mod_runon_all_lreg(feats):\n",
    "    \n",
    "    # Fit regression to entire data\n",
    "    X = hs[feats]\n",
    "    y = hs['log_price']\n",
    "    \n",
    "    # Scale features\n",
    "    sc_all = StandardScaler()\n",
    "    Z_all = sc_all.fit_transform(X)\n",
    "    \n",
    "    # Run Ridge Regression\n",
    "    l_alphas = np.logspace(-5, 0, 150)\n",
    "    lasso_cv_all = LassoCV(alphas = l_alphas, cv = 10, max_iter=75_000)\n",
    "    lasso_cv_all.fit(Z_all, y)\n",
    "    \n",
    "    # Predict SalePrice for entire data and compare to truth to get residuals\n",
    "    y_preds_all = np.exp(lasso_cv_all.predict(Z_all)) # Undoing the logged price\n",
    "    y_true = hs['SalePrice'] #Can use var from entire dataset\n",
    "    MSE = metrics.mean_squared_error(y_true, y_preds_all)\n",
    "    RMSE = metrics.mean_squared_error(y_true, y_preds_all, squared=False)\n",
    "    \n",
    "    # Use regression to predict SalePrice on Test.csv (unseen) data\n",
    "    # first standard scale\n",
    "    Z_all_test = sc_all.transform(hs_test[feats])\n",
    "    y_preds_all_test = np.exp(lasso_cv_all.predict(Z_all_test))\n",
    "    hs_test['SalePrice'] = y_preds_all_test\n",
    "\n",
    "    # Null model for comparison\n",
    "    hs['null_pred'] = np.exp(np.mean(y))\n",
    "    null_pred = hs['null_pred']\n",
    "    null_MSE = metrics.mean_squared_error(y_true, null_pred)\n",
    "    null_RMSE = metrics.mean_squared_error(y_true, null_pred, squared=False)\n",
    "    \n",
    "    #Submit Predictions to Kaggle\n",
    "    submit = hs_test[['Id', 'SalePrice']]\n",
    "    submit.set_index('Id', inplace=True)\n",
    "    dt = datetime.datetime.now().strftime(\"%m%d%Y%H\")\n",
    "    submit.to_csv(f'../datasets/Submissions/Features_Submission_logy_lreg-{dt}.csv')\n",
    "        \n",
    "    for i, coef in zip(X.columns, np.exp(lasso_cv_all.coef_)):\n",
    "        print(f\"{i}: {coef}\")\n",
    "    print(f\"intercept: {np.exp(lasso_cv_all.intercept_)}\")\n",
    "    print(f\"null_MSE: {null_MSE}, null_RMSE: {null_RMSE}\")\n",
    "    \n",
    "    return f\"Full Data R2: {lasso_cv_all.score(Z_all, y)}, MSE = {MSE}, RMSE = {RMSE}\"\n",
    "\n",
    "log_mod_runon_all_lreg(feats_updated)"
   ]
  },
  {
   "cell_type": "markdown",
   "id": "bfcbc9ba-de16-405d-9ace-757e7a239401",
   "metadata": {},
   "source": [
    "<span style= 'color: blue'> **While the training R^2 (from Z_train) is larger than the testing R^2 (from Z_test), neither Ridge nor Lasso CV regularization appear to be addressing the overfitting. This has been the case after several iterations of changing the strength of the regularization (alpha), as well as removing variables to make the model simpler. Each scenario resulted in the RMSE score increasing and R^2 either remaining constant or decreasing slightly.**</span> \n",
    "\n",
    "<span style= 'color: blue'> **Our final model will be the Lasso-regularized model using log-transformed Sale Price. This model achieved nearly the same metrics as the non-Lasso version, however, using the regularized version may be beneficial on unseen data as it does appear that the model is overfit.**</span> "
   ]
  },
  {
   "cell_type": "code",
   "execution_count": 13,
   "id": "48bb8b96-e815-4f1f-be12-cab72244af1c",
   "metadata": {},
   "outputs": [],
   "source": [
    "# SUBMISSION HISTORY\n",
    "\n",
    "# 6/3 10P submission = ['overall_qual', 'year_built', 'year_remod', 'total_bsmt_sf', 'gr_liv_area', 'full_bath', 'fireplaces', 'age', 'garage_area', 'kitchen_qual_Fa', 'kitchen_qual_Gd', 'kitchen_qual_TA', 'was_remod', 'bsmt_cat_finished','bsmt_cat_unfinished', 'grg_qual_num', 'garage_cat_finished', 'garage_cat_unfinished', 'cond12_feeder_st', 'cond12_near_park', 'cond12_near_rr', 'cond12_norm', 'lotconfig_culdsac', 'lotconfig_inside', 'hi_bsmt_exposure', 'nbr_rank']\n",
    "# 6/3 8:30P submission = ['overall_qual', 'year_built', 'year_remod', 'total_bsmt_sf', 'gr_liv_area', 'full_bath', 'fireplaces', 'garage_area', 'age', 'was_remod', 'bsmt_cat_finished','bsmt_cat_unfinished']\n",
    "# 6/2 submission = ['overall_qual', 'year_built', 'year_remod', 'total_bsmt_sf', 'gr_liv_area', 'full_bath', 'fireplaces', 'garage_area']\n",
    "# first submission = ['Overall Qual', 'Year Built', 'Year Remod/Add', 'BsmtFin SF 1', 'Total Bsmt SF', 'Gr Liv Area', 'Full Bath', 'Fireplaces', 'Garage Area']\n",
    "# in-class submission = ['Overall Qual']"
   ]
  },
  {
   "cell_type": "code",
   "execution_count": 14,
   "id": "dc841266-058d-4674-9051-5912adeb384b",
   "metadata": {},
   "outputs": [],
   "source": [
    "# Without Lasso Regl\n",
    "\n",
    "# 'Full Data R2: 0.8891974819498465, MSE = 546453367.2372748, RMSE = 23376.342041416035'\n",
    "# feats_updated = ['overall_qual', 'year_built', 'year_remod', 'total_bsmt_sf', 'gr_liv_area', 'full_bath', 'fireplaces', 'age', 'garage_area', 'kitchen_qual_Fa', 'kitchen_qual_Gd', 'kitchen_qual_TA', 'was_remod', 'bsmt_cat_finished','bsmt_cat_unfinished', 'grg_qual_num', 'garage_cat_finished', 'garage_cat_unfinished', 'cond12_feeder_st', 'cond12_near_park', 'cond12_near_rr', 'cond12_norm', 'lotconfig_culdsac', 'lotconfig_inside', 'hi_bsmt_exposure', 'nbr_rank']"
   ]
  },
  {
   "cell_type": "code",
   "execution_count": 15,
   "id": "5c5f4dcb-4673-4426-a0d8-5b5f16052d69",
   "metadata": {},
   "outputs": [],
   "source": [
    "# W/ Lasso Regl\n",
    "# 'Full Data R2: 0.8891958486538678, MSE = 546493452.084716, RMSE = 23377.19940635995'\n",
    "# feats_updated = ['overall_qual', 'year_built', 'year_remod', 'total_bsmt_sf', 'gr_liv_area', 'full_bath', 'fireplaces', 'age', 'garage_area', 'kitchen_qual_Fa', 'kitchen_qual_Gd', 'kitchen_qual_TA', 'was_remod', 'bsmt_cat_finished','bsmt_cat_unfinished', 'grg_qual_num', 'garage_cat_finished', 'garage_cat_unfinished', 'cond12_feeder_st',  'cond12_near_park', 'cond12_near_rr', 'cond12_norm', 'lotconfig_culdsac', 'lotconfig_inside', 'hi_bsmt_exposure', 'nbr_rank']"
   ]
  },
  {
   "cell_type": "code",
   "execution_count": 16,
   "id": "b2d8a557-a50a-4dcc-a2a5-078f71276b89",
   "metadata": {},
   "outputs": [],
   "source": [
    "# Factors that ended up not being important:\n",
    "\n",
    "# - Any condition indicators\n",
    "# - Fireplace and Garage Quality\n",
    "# - Pool (1/0)\n",
    "# - Amenities Score"
   ]
  },
  {
   "cell_type": "code",
   "execution_count": 17,
   "id": "c9634026-8c19-4f27-97d4-675f940f636f",
   "metadata": {},
   "outputs": [],
   "source": [
    "# Interpreting Log transformations in a linear model: https://data.library.virginia.edu/interpreting-log-transformations-in-a-linear-model/"
   ]
  }
 ],
 "metadata": {
  "kernelspec": {
   "display_name": "Python 3 (ipykernel)",
   "language": "python",
   "name": "python3"
  },
  "language_info": {
   "codemirror_mode": {
    "name": "ipython",
    "version": 3
   },
   "file_extension": ".py",
   "mimetype": "text/x-python",
   "name": "python",
   "nbconvert_exporter": "python",
   "pygments_lexer": "ipython3",
   "version": "3.10.9"
  }
 },
 "nbformat": 4,
 "nbformat_minor": 5
}
