{
 "cells": [
  {
   "cell_type": "markdown",
   "id": "c3754c5e-cf77-47ac-ac81-0120f9cb3cb7",
   "metadata": {},
   "source": [
    "# Ames Housing Data: Modelling\n",
    "---\n",
    "\n",
    "## I. Model Building and Testing\n",
    "---"
   ]
  },
  {
   "cell_type": "code",
   "execution_count": 161,
   "id": "b69bbb86-16de-4612-8830-ebb471de161d",
   "metadata": {},
   "outputs": [],
   "source": [
    "import numpy as np\n",
    "import pandas as pd\n",
    "import matplotlib.pyplot as plt\n",
    "import seaborn as sns\n",
    "# import missingno as msno\n",
    "\n",
    "from sklearn.linear_model import LinearRegression, RidgeCV, LassoCV\n",
    "from sklearn import metrics \n",
    "from sklearn.model_selection import train_test_split, cross_val_score\n",
    "from sklearn.preprocessing import StandardScaler, OneHotEncoder #, PolynomialFeatures\n",
    "# from sklearn.compose import ColumnTransformer\n",
    "# from sklearn.neighbors import KNeighborsClassifier\n",
    "\n",
    "import datetime"
   ]
  },
  {
   "cell_type": "code",
   "execution_count": 94,
   "id": "30bab665-97ab-4855-a3f4-698327d091f6",
   "metadata": {},
   "outputs": [],
   "source": [
    "hs = pd.read_csv('../datasets/Clean/train.csv')\n",
    "hs_test = pd.read_csv('../datasets/Clean/test.csv')"
   ]
  },
  {
   "cell_type": "code",
   "execution_count": 95,
   "id": "51678c8b-846d-43fe-bb49-373d2ef1e50f",
   "metadata": {},
   "outputs": [
    {
     "data": {
      "text/plain": [
       "['Id',\n",
       " 'ms_subclass',\n",
       " 'ms_zoning',\n",
       " 'lot_frontage',\n",
       " 'lot_area',\n",
       " 'street',\n",
       " 'lot_shape',\n",
       " 'land_contour',\n",
       " 'utilities',\n",
       " 'lot_config',\n",
       " 'land_slope',\n",
       " 'neighborhood',\n",
       " 'condition_1',\n",
       " 'condition_2',\n",
       " 'bldg_type',\n",
       " 'house_style',\n",
       " 'overall_qual',\n",
       " 'overall_cond',\n",
       " 'year_built',\n",
       " 'year_remod',\n",
       " 'roof_style',\n",
       " 'roof_matl',\n",
       " 'exterior_1st',\n",
       " 'exterior_2nd',\n",
       " 'mas_vnr_type',\n",
       " 'mas_vnr_area',\n",
       " 'exter_qual',\n",
       " 'exter_cond',\n",
       " 'foundation',\n",
       " 'bsmt_qual',\n",
       " 'bsmt_cond',\n",
       " 'bsmt_exposure',\n",
       " 'bsmtfin_type_1',\n",
       " 'bsmtfin_sf_1',\n",
       " 'bsmtfin_type_2',\n",
       " 'bsmtfin_sf_2',\n",
       " 'bsmt_unf_sf',\n",
       " 'total_bsmt_sf',\n",
       " 'heating',\n",
       " 'heating_qc',\n",
       " 'central_air',\n",
       " 'electrical',\n",
       " '1st_flr_sf',\n",
       " '2nd_flr_sf',\n",
       " 'low_qual_fin_sf',\n",
       " 'gr_liv_area',\n",
       " 'bsmt_full_bath',\n",
       " 'bsmt_half_bath',\n",
       " 'full_bath',\n",
       " 'half_bath',\n",
       " 'bedroom_abvgr',\n",
       " 'kitchen_abvgr',\n",
       " 'kitchen_qual',\n",
       " 'totrms_abvgrd',\n",
       " 'functional',\n",
       " 'fireplaces',\n",
       " 'fireplace_qu',\n",
       " 'garage_type',\n",
       " 'garage_yr_blt',\n",
       " 'garage_finish',\n",
       " 'garage_cars',\n",
       " 'garage_area',\n",
       " 'garage_qual',\n",
       " 'garage_cond',\n",
       " 'paved_drive',\n",
       " 'wood_deck_sf',\n",
       " 'open_porch_sf',\n",
       " 'enclosed_porch',\n",
       " '3ssn_porch',\n",
       " 'screen_porch',\n",
       " 'pool_area',\n",
       " 'misc_val',\n",
       " 'mo_sold',\n",
       " 'yr_sold',\n",
       " 'sale_type',\n",
       " 'SalePrice',\n",
       " 'overall_qual_cond',\n",
       " 'age',\n",
       " 'age_adj',\n",
       " 'was_remod',\n",
       " 'bsmt_cond_num',\n",
       " 'log_price',\n",
       " 'bsmt_cat',\n",
       " 'bsmt_cat_finished',\n",
       " 'bsmt_cat_unfinished',\n",
       " 'grg_qual_num',\n",
       " 'garage_cat',\n",
       " 'garage_cat_finished',\n",
       " 'garage_cat_unfinished',\n",
       " 'fireplace_cat',\n",
       " 'fireplace_cat_hi_qual',\n",
       " 'fireplace_cat_low_qual',\n",
       " 'kitchen_qual_Fa',\n",
       " 'kitchen_qual_Gd',\n",
       " 'kitchen_qual_TA',\n",
       " 'cond12',\n",
       " 'cond12_feeder_st',\n",
       " 'cond12_near_park',\n",
       " 'cond12_near_rr',\n",
       " 'cond12_norm',\n",
       " 'lotconfig',\n",
       " 'lotconfig_culdsac',\n",
       " 'lotconfig_inside',\n",
       " 'hi_bsmt_exposure',\n",
       " 'has_pool',\n",
       " 'amenities_scr',\n",
       " 'nbr_med',\n",
       " 'nbr_qual',\n",
       " 'ext_qu_scr',\n",
       " 'nbr_ext',\n",
       " 'func_scr',\n",
       " 'nbr_func',\n",
       " 'nbr_amen',\n",
       " 'nbr_rank']"
      ]
     },
     "execution_count": 95,
     "metadata": {},
     "output_type": "execute_result"
    }
   ],
   "source": [
    "hs.columns.tolist()"
   ]
  },
  {
   "cell_type": "code",
   "execution_count": 156,
   "id": "00468720-5921-479a-846c-b89802a503dc",
   "metadata": {},
   "outputs": [],
   "source": [
    "# UPDATE FEATURES FOR TESTING HERE\n",
    "feats_updated = ['overall_qual', 'year_built', 'year_remod', 'total_bsmt_sf', 'gr_liv_area', 'full_bath', 'fireplaces', 'age', 'garage_area', 'kitchen_qual_Fa',\n",
    " 'kitchen_qual_Gd', 'kitchen_qual_TA', 'was_remod', 'bsmt_cat_finished','bsmt_cat_unfinished', 'grg_qual_num', 'garage_cat_finished', 'garage_cat_unfinished', 'cond12_feeder_st',\n",
    " 'cond12_near_park', 'cond12_near_rr', 'cond12_norm', 'lotconfig_culdsac', 'lotconfig_inside', 'hi_bsmt_exposure', 'nbr_rank']"
   ]
  },
  {
   "cell_type": "markdown",
   "id": "974444d5-b957-4101-b2b1-ff696fa70578",
   "metadata": {
    "jp-MarkdownHeadingCollapsed": true,
    "tags": []
   },
   "source": [
    "### Modelling Sale Price (Not Log Transformed)"
   ]
  },
  {
   "cell_type": "code",
   "execution_count": 159,
   "id": "8d672eab-164c-4bd4-b46a-9f2a01e987ac",
   "metadata": {},
   "outputs": [
    {
     "name": "stdout",
     "output_type": "stream",
     "text": [
      "overall_qual: 11968.811813500542\n",
      "year_built: -350.97358679281257\n",
      "year_remod: 178.57242205684673\n",
      "total_bsmt_sf: 33.89030292727547\n",
      "gr_liv_area: 52.7116961463897\n",
      "full_bath: -8242.235192230459\n",
      "fireplaces: 6724.39613179342\n",
      "age: -515.689687872751\n",
      "garage_area: 43.26384218895882\n",
      "kitchen_qual_Fa: -54131.27796334144\n",
      "kitchen_qual_Gd: -52487.16789398767\n",
      "kitchen_qual_TA: -57266.73408818462\n",
      "was_remod: 8620.634674153202\n",
      "bsmt_cat_finished: -21633.15879992531\n",
      "bsmt_cat_unfinished: -31122.77411498547\n",
      "grg_qual_num: 9514.049344319392\n",
      "garage_cat_finished: -34260.88822052657\n",
      "garage_cat_unfinished: -34943.03250356009\n",
      "cond12_feeder_st: 8091.490014363354\n",
      "cond12_near_park: 28535.396383037347\n",
      "cond12_near_rr: 10555.166512402857\n",
      "cond12_norm: 12994.632119788877\n",
      "lotconfig_culdsac: 10451.268224975585\n",
      "lotconfig_inside: 1023.6598948232844\n",
      "hi_bsmt_exposure: 10867.301638715573\n",
      "nbr_rank: 1549.66139866835\n",
      "intercept: 379064.43169823266\n"
     ]
    },
    {
     "data": {
      "text/plain": [
       "'Training R2: 0.8801071212533926, Testing R2: 0.8710146049538188, MSE: 764756771.8888963, RMSE: 27654.23605686652'"
      ]
     },
     "execution_count": 159,
     "metadata": {},
     "output_type": "execute_result"
    }
   ],
   "source": [
    "def mod_iteration(feats):\n",
    "    \n",
    "    # Fit regression to X_train and y_train (75% of training.csv)\n",
    "    X = hs[feats]\n",
    "    y = hs['SalePrice']\n",
    "    X_train, X_test, y_train, y_test = train_test_split(X, y, random_state = 531)\n",
    "    lr = LinearRegression()\n",
    "    lr.fit(X_train, y_train)\n",
    "    \n",
    "    # Predict SalePrice for 25% testing data within train.csv and compare to truth to get residuals\n",
    "    y_preds = lr.predict(X_test)\n",
    "    MSE = metrics.mean_squared_error(y_test, y_preds)\n",
    "    RMSE = metrics.mean_squared_error(y_test, y_preds, squared=False)\n",
    "        \n",
    "    for i, coef in zip(X.columns, lr.coef_):\n",
    "        print(f\"{i}: {coef}\")\n",
    "    print(f\"intercept: {lr.intercept_}\")\n",
    "    \n",
    "    return f\"Training R2: {lr.score(X_train, y_train)}, Testing R2: {lr.score(X_test, y_test)}, MSE: {MSE}, RMSE: {RMSE}\"\n",
    "    \n",
    "mod_iteration(feats_updated)"
   ]
  },
  {
   "cell_type": "code",
   "execution_count": 160,
   "id": "63e99138-ef81-48ec-b527-e971d9c441b3",
   "metadata": {},
   "outputs": [
    {
     "name": "stdout",
     "output_type": "stream",
     "text": [
      "overall_qual: 12315.39092250356\n",
      "year_built: -550.7827459455575\n",
      "year_remod: 201.20428865982905\n",
      "total_bsmt_sf: 33.89630121189707\n",
      "gr_liv_area: 53.30002893636158\n",
      "full_bath: -7954.517101227186\n",
      "fireplaces: 6896.424727395184\n",
      "age: -702.3287508636138\n",
      "garage_area: 41.352757616707855\n",
      "kitchen_qual_Fa: -52091.56661918211\n",
      "kitchen_qual_Gd: -51928.867136748646\n",
      "kitchen_qual_TA: -55603.27525338432\n",
      "was_remod: 8084.878348721583\n",
      "bsmt_cat_finished: -17903.659632606166\n",
      "bsmt_cat_unfinished: -27825.453046849052\n",
      "grg_qual_num: 6032.196108411356\n",
      "garage_cat_finished: -24492.689418144815\n",
      "garage_cat_unfinished: -25979.26751480429\n",
      "cond12_feeder_st: 4486.534961553298\n",
      "cond12_near_park: 22516.574951005234\n",
      "cond12_near_rr: 6009.260236228417\n",
      "cond12_norm: 10571.81508951031\n",
      "lotconfig_culdsac: 9674.441487087695\n",
      "lotconfig_inside: -424.9186121698786\n",
      "hi_bsmt_exposure: 11512.567116312723\n",
      "nbr_rank: 1475.6232003489029\n",
      "intercept: 733217.8189078611\n"
     ]
    },
    {
     "data": {
      "text/plain": [
       "'Full Data R2: 0.8783938399951442, MSE = 755168061.9424928, RMSE = 27480.321358064444'"
      ]
     },
     "execution_count": 160,
     "metadata": {},
     "output_type": "execute_result"
    }
   ],
   "source": [
    "def mod_runon_all(feats):\n",
    "    \n",
    "    # Fit regression to entire data\n",
    "    X = hs[feats]\n",
    "    y = hs['SalePrice']\n",
    "    lr_all = LinearRegression()\n",
    "    lr_all.fit(X, y)\n",
    "    \n",
    "    # Predict SalePrice for entire data and compare to truth to get residuals\n",
    "    y_preds_all = lr_all.predict(hs[feats])\n",
    "    y_true = hs['SalePrice'] #Can use var from entire dataset\n",
    "    MSE = metrics.mean_squared_error(y_true, y_preds_all)\n",
    "    RMSE = metrics.mean_squared_error(y_true, y_preds_all, squared=False)\n",
    "    \n",
    "    # Use regression to predict SalePrice on Test.csv (unseen) data\n",
    "    y_preds_all_test = lr_all.predict(hs_test[feats])\n",
    "    hs_test['SalePrice'] = y_preds_all_test\n",
    "    \n",
    "    #Submit Predictions to Kaggle\n",
    "    submit = hs_test[['Id', 'SalePrice']]\n",
    "    submit.set_index('Id', inplace=True)\n",
    "    dt = datetime.datetime.now().strftime(\"%m%d%Y%H\")\n",
    "    submit.to_csv(f'../datasets/Submissions/Features_Submission-{dt}.csv')\n",
    "        \n",
    "    for i, coef in zip(X.columns, lr_all.coef_):\n",
    "        print(f\"{i}: {coef}\")\n",
    "    print(f\"intercept: {lr_all.intercept_}\")\n",
    "    \n",
    "    return f\"Full Data R2: {lr_all.score(X, y)}, MSE = {MSE}, RMSE = {RMSE}\"\n",
    "\n",
    "mod_runon_all(feats_updated)\n",
    "\n",
    "# first submission = ['Overall Qual', 'Year Built', 'Year Remod/Add', 'BsmtFin SF 1', 'Total Bsmt SF', 'Gr Liv Area', 'Full Bath', 'Fireplaces', 'Garage Area']\n",
    "# 6/2 submission - ['overall_qual', 'year_built', 'year_remod', 'total_bsmt_sf', 'gr_liv_area', 'full_bath', 'fireplaces', 'garage_area']"
   ]
  },
  {
   "cell_type": "markdown",
   "id": "70be0808-15ec-45a9-a8d3-cc89e615c2a4",
   "metadata": {},
   "source": [
    "### Modelling Sale Price (Log Transformed)"
   ]
  },
  {
   "cell_type": "code",
   "execution_count": 157,
   "id": "2336342b-2580-4345-913f-d7c9334b1f71",
   "metadata": {},
   "outputs": [
    {
     "name": "stdout",
     "output_type": "stream",
     "text": [
      "overall_qual: 1.0652899468860169\n",
      "year_built: 0.9974293102625212\n",
      "year_remod: 1.0020394205819831\n",
      "total_bsmt_sf: 1.000144750054229\n",
      "gr_liv_area: 1.0002573735553357\n",
      "full_bath: 0.9853799720381564\n",
      "fireplaces: 1.0520894038300466\n",
      "age: 0.9965020241929878\n",
      "garage_area: 1.0001360819100704\n",
      "kitchen_qual_Fa: 0.833149471052506\n",
      "kitchen_qual_Gd: 0.9062403849700669\n",
      "kitchen_qual_TA: 0.875750340677795\n",
      "was_remod: 1.0104580138701016\n",
      "bsmt_cat_finished: 1.011526745224659\n",
      "bsmt_cat_unfinished: 0.9434323505423419\n",
      "grg_qual_num: 1.065723145327647\n",
      "garage_cat_finished: 0.9225192140019572\n",
      "garage_cat_unfinished: 0.9054621463126891\n",
      "cond12_feeder_st: 1.0683359991349752\n",
      "cond12_near_park: 1.1614438355263488\n",
      "cond12_near_rr: 1.0814552213606787\n",
      "cond12_norm: 1.0974132793724154\n",
      "lotconfig_culdsac: 1.0296320884029058\n",
      "lotconfig_inside: 0.9935256927877539\n",
      "hi_bsmt_exposure: 1.0362133500536257\n",
      "nbr_rank: 1.0064750820671917\n",
      "intercept: 168662.3642301317\n"
     ]
    },
    {
     "data": {
      "text/plain": [
       "'Training R2: 0.9027066907883885, Testing R2: 0.8469346326344672, MSE: 646650684.6715598, RMSE: 25429.32725558346'"
      ]
     },
     "execution_count": 157,
     "metadata": {},
     "output_type": "execute_result"
    }
   ],
   "source": [
    "def log_mod_iteration(feats):\n",
    "    \n",
    "    # Fit regression to X_train and y_train (75% of training.csv)\n",
    "    X = hs[feats]\n",
    "    y = hs['log_price']\n",
    "    X_train, X_test, y_train, y_test = train_test_split(X, y, random_state = 531)\n",
    "    lr = LinearRegression()\n",
    "    lr.fit(X_train, y_train)\n",
    "        \n",
    "    # Predict SalePrice for 25% testing data within train.csv and compare to truth to get residuals\n",
    "    y_preds = np.exp(lr.predict(X_test)) # Undoing the logged price\n",
    "    MSE = metrics.mean_squared_error(np.exp(y_test), y_preds)\n",
    "    RMSE = metrics.mean_squared_error(np.exp(y_test), y_preds, squared=False)\n",
    "        \n",
    "    for i, coef in zip(X.columns, np.exp(lr.coef_)):\n",
    "        print(f\"{i}: {coef}\")\n",
    "    print(f\"intercept: {np.exp(lr.intercept_)}\")\n",
    "    \n",
    "    return f\"Training R2: {lr.score(X_train, y_train)}, Testing R2: {lr.score(X_test, y_test)}, MSE: {MSE}, RMSE: {RMSE}\"\n",
    "    \n",
    "log_mod_iteration(feats_updated)"
   ]
  },
  {
   "cell_type": "code",
   "execution_count": 158,
   "id": "bf7b8344-8281-4268-90d8-9311a4e041c4",
   "metadata": {},
   "outputs": [
    {
     "name": "stdout",
     "output_type": "stream",
     "text": [
      "overall_qual: 1.0700044474922827\n",
      "year_built: 0.995966660473269\n",
      "year_remod: 1.0020249902646061\n",
      "total_bsmt_sf: 1.0001450608060531\n",
      "gr_liv_area: 1.000262913671798\n",
      "full_bath: 0.9825204135480938\n",
      "fireplaces: 1.0491404286946246\n",
      "age: 0.9951758871327632\n",
      "garage_area: 1.0001120666758458\n",
      "kitchen_qual_Fa: 0.8358095681887513\n",
      "kitchen_qual_Gd: 0.9114755884314091\n",
      "kitchen_qual_TA: 0.8882442964550927\n",
      "was_remod: 1.01180134774983\n",
      "bsmt_cat_finished: 1.0345746437414591\n",
      "bsmt_cat_unfinished: 0.9608666836599141\n",
      "grg_qual_num: 1.069009566005959\n",
      "garage_cat_finished: 0.9127696831938725\n",
      "garage_cat_unfinished: 0.8903533790078164\n",
      "cond12_feeder_st: 1.0555217604870832\n",
      "cond12_near_park: 1.135677042787556\n",
      "cond12_near_rr: 1.0589808407380914\n",
      "cond12_norm: 1.0820369337840932\n",
      "lotconfig_culdsac: 1.0220627791521084\n",
      "lotconfig_inside: 0.9861029420627985\n",
      "hi_bsmt_exposure: 1.0410245317703117\n",
      "nbr_rank: 1.006934041446833\n",
      "intercept: 3180680.766252608\n"
     ]
    },
    {
     "data": {
      "text/plain": [
       "'Full Data R2: 0.8891974819498465, MSE = 546453367.2372748, RMSE = 23376.342041416035'"
      ]
     },
     "execution_count": 158,
     "metadata": {},
     "output_type": "execute_result"
    }
   ],
   "source": [
    "def log_mod_runon_all(feats):\n",
    "    \n",
    "    # Fit regression to entire data\n",
    "    X = hs[feats]\n",
    "    y = hs['log_price']\n",
    "    lr_all = LinearRegression()\n",
    "    lr_all.fit(X, y)\n",
    "    \n",
    "    # Predict SalePrice for entire data and compare to truth to get residuals\n",
    "    y_preds_all = np.exp(lr_all.predict(hs[feats]))\n",
    "    y_true = hs['SalePrice'] #Can use var from entire dataset\n",
    "    MSE = metrics.mean_squared_error(y_true, y_preds_all)\n",
    "    RMSE = metrics.mean_squared_error(y_true, y_preds_all, squared=False)\n",
    "    \n",
    "    # Use regression to predict SalePrice on Test.csv (unseen) data\n",
    "    y_preds_all_test = np.exp(lr_all.predict(hs_test[feats]))\n",
    "    hs_test['SalePrice'] = y_preds_all_test\n",
    "    \n",
    "    #Submit Predictions to Kaggle\n",
    "    submit = hs_test[['Id', 'SalePrice']]\n",
    "    submit.set_index('Id', inplace=True)\n",
    "    dt = datetime.datetime.now().strftime(\"%m%d%Y%H\")\n",
    "    submit.to_csv(f'../datasets/Submissions/Features_Submission_logy-{dt}.csv')\n",
    "        \n",
    "    for i, coef in zip(X.columns, np.exp(lr_all.coef_)):\n",
    "        print(f\"{i}: {coef}\")\n",
    "    print(f\"intercept: {np.exp(lr_all.intercept_)}\")\n",
    "    \n",
    "    return f\"Full Data R2: {lr_all.score(X, y)}, MSE = {MSE}, RMSE = {RMSE}\"\n",
    "\n",
    "log_mod_runon_all(feats_updated)"
   ]
  },
  {
   "cell_type": "markdown",
   "id": "dd6f1814-ce0d-4d19-96fe-469aefed655d",
   "metadata": {},
   "source": [
    "### II. Regularization\n",
    "Our model is overfit, as reflected by the R^2 for our training data being comfortably higher than the R^2 on our testing data. This indicates that our model is not doing as well on unseen data."
   ]
  },
  {
   "cell_type": "code",
   "execution_count": 172,
   "id": "7b61d07e-270a-4a58-a675-4ff9b7cd7cbc",
   "metadata": {},
   "outputs": [
    {
     "name": "stdout",
     "output_type": "stream",
     "text": [
      "overall_qual: 1.0939220739005142\n",
      "year_built: 1.0040755902306637\n",
      "year_remod: 1.04140889428045\n",
      "total_bsmt_sf: 1.068896287760467\n",
      "gr_liv_area: 1.130277752658832\n",
      "full_bath: 0.9990403216193918\n",
      "fireplaces: 1.0325838321293963\n",
      "age: 0.9815993923209081\n",
      "garage_area: 1.0287925411210734\n",
      "kitchen_qual_Fa: 0.9746523159954423\n",
      "kitchen_qual_Gd: 0.9635254189291536\n",
      "kitchen_qual_TA: 0.9524809579886162\n",
      "was_remod: 1.0074591450994759\n",
      "bsmt_cat_finished: 1.0121097642957746\n",
      "bsmt_cat_unfinished: 0.9813774961844252\n",
      "grg_qual_num: 1.019773950160603\n",
      "garage_cat_finished: 1.0087295744366764\n",
      "garage_cat_unfinished: 0.9932542232391477\n",
      "cond12_feeder_st: 1.0065305360764778\n",
      "cond12_near_park: 1.017656082728806\n",
      "cond12_near_rr: 1.0106457226048629\n",
      "cond12_norm: 1.0232917584382524\n",
      "lotconfig_culdsac: 1.0039756971461884\n",
      "lotconfig_inside: 0.9936471852136411\n",
      "hi_bsmt_exposure: 1.018813569413983\n",
      "nbr_rank: 1.040701465228548\n",
      "intercept: 168613.18234487195\n"
     ]
    },
    {
     "data": {
      "text/plain": [
       "'Training R2: 0.9027254341349968, Testing R2: 0.839338444201079, MSE: 602963159.0604529, RMSE: 24555.308164640348'"
      ]
     },
     "execution_count": 172,
     "metadata": {},
     "output_type": "execute_result"
    }
   ],
   "source": [
    "def log_mod_iteration_reg(feats):\n",
    "    \n",
    "    # Fit regression to X_train and y_train (75% of training.csv)\n",
    "    X = hs[feats]\n",
    "    y = hs['log_price']\n",
    "    X_train, X_test, y_train, y_test = train_test_split(X, y, random_state = 602)\n",
    "    \n",
    "    # Scale features\n",
    "    sc = StandardScaler()\n",
    "    Z_train = sc.fit_transform(X_train)\n",
    "    Z_test = sc.transform(X_test)\n",
    "    \n",
    "    # Run Ridge Regression\n",
    "    r_alphas = np.logspace(0, 5, 150)\n",
    "    ridge_cv = RidgeCV(alphas = r_alphas, scoring = 'r2', cv = 10)\n",
    "    ridge_cv.fit(Z_train, y_train)\n",
    "            \n",
    "    # Predict SalePrice for 25% testing data within train.csv and compare to truth to get residuals\n",
    "    y_preds = np.exp(ridge_cv.predict(Z_test)) # Undoing the logged price\n",
    "    MSE = metrics.mean_squared_error(np.exp(y_test), y_preds)\n",
    "    RMSE = metrics.mean_squared_error(np.exp(y_test), y_preds, squared=False)\n",
    "        \n",
    "    for i, coef in zip(X.columns, np.exp(ridge_cv.coef_)):\n",
    "        print(f\"{i}: {coef}\")\n",
    "    print(f\"intercept: {np.exp(ridge_cv.intercept_)}\")\n",
    "    \n",
    "    return f\"Training R2: {ridge_cv.score(Z_train, y_train)}, Testing R2: {ridge_cv.score(Z_test, y_test)}, MSE: {MSE}, RMSE: {RMSE}\"\n",
    "    \n",
    "log_mod_iteration_reg(feats_updated)"
   ]
  },
  {
   "cell_type": "code",
   "execution_count": 173,
   "id": "85d683b5-e9b4-46d2-8a00-d12ca95dcfa8",
   "metadata": {},
   "outputs": [
    {
     "name": "stdout",
     "output_type": "stream",
     "text": [
      "overall_qual: 1.0992338071239376\n",
      "year_built: 1.0017788882893603\n",
      "year_remod: 1.042831164938939\n",
      "total_bsmt_sf: 1.0632978744993025\n",
      "gr_liv_area: 1.1339008996049866\n",
      "full_bath: 0.9918202497708329\n",
      "fireplaces: 1.0316074361236327\n",
      "age: 0.977453834472778\n",
      "garage_area: 1.0248227320433363\n",
      "kitchen_qual_Fa: 0.976005246027994\n",
      "kitchen_qual_Gd: 0.9596957142957249\n",
      "kitchen_qual_TA: 0.946915411562688\n",
      "was_remod: 1.0054774287918284\n",
      "bsmt_cat_finished: 1.0164468973281113\n",
      "bsmt_cat_unfinished: 0.9826399951812711\n",
      "grg_qual_num: 1.0341269779578652\n",
      "garage_cat_finished: 0.9847683203681766\n",
      "garage_cat_unfinished: 0.9721834983876779\n",
      "cond12_feeder_st: 1.0105824740298153\n",
      "cond12_near_park: 1.0167522522698196\n",
      "cond12_near_rr: 1.0092103211098131\n",
      "cond12_norm: 1.0251934357072556\n",
      "lotconfig_culdsac: 1.0056837798213347\n",
      "lotconfig_inside: 0.9941845934470174\n",
      "hi_bsmt_exposure: 1.0178420016003606\n",
      "nbr_rank: 1.0376121500256643\n",
      "intercept: 168371.1380929812\n"
     ]
    },
    {
     "data": {
      "text/plain": [
       "'Full Data R2: 0.8888500552096913, MSE = 549697671.558395, RMSE = 23445.632249064965'"
      ]
     },
     "execution_count": 173,
     "metadata": {},
     "output_type": "execute_result"
    }
   ],
   "source": [
    "def log_mod_runon_all_reg(feats):\n",
    "    \n",
    "    # Fit regression to entire data\n",
    "    X = hs[feats]\n",
    "    y = hs['log_price']\n",
    "    \n",
    "    # Scale features\n",
    "    sc_all = StandardScaler()\n",
    "    Z_all = sc_all.fit_transform(X)\n",
    "    \n",
    "    # Run Ridge Regression\n",
    "    r_alphas = np.logspace(0, 8, 200)\n",
    "    ridge_cv_all = RidgeCV(alphas = r_alphas, scoring = 'r2', cv = 10)\n",
    "    ridge_cv_all.fit(Z_all, y)\n",
    "    \n",
    "    # Predict SalePrice for entire data and compare to truth to get residuals\n",
    "    y_preds_all = np.exp(ridge_cv_all.predict(Z_all)) # Undoing the logged price\n",
    "    y_true = hs['SalePrice'] #Can use var from entire dataset\n",
    "    MSE = metrics.mean_squared_error(y_true, y_preds_all)\n",
    "    RMSE = metrics.mean_squared_error(y_true, y_preds_all, squared=False)\n",
    "    \n",
    "    # Use regression to predict SalePrice on Test.csv (unseen) data\n",
    "    # first standard scale\n",
    "    Z_all_test = sc_all.transform(hs_test[feats])\n",
    "    y_preds_all_test = np.exp(ridge_cv_all.predict(Z_all_test))\n",
    "    hs_test['SalePrice'] = y_preds_all_test\n",
    "    \n",
    "    #Submit Predictions to Kaggle\n",
    "    submit = hs_test[['Id', 'SalePrice']]\n",
    "    submit.set_index('Id', inplace=True)\n",
    "    dt = datetime.datetime.now().strftime(\"%m%d%Y%H\")\n",
    "    submit.to_csv(f'../datasets/Submissions/Features_Submission_logy_reg-{dt}.csv')\n",
    "        \n",
    "    for i, coef in zip(X.columns, np.exp(ridge_cv_all.coef_)):\n",
    "        print(f\"{i}: {coef}\")\n",
    "    print(f\"intercept: {np.exp(ridge_cv_all.intercept_)}\")\n",
    "    \n",
    "    return f\"Full Data R2: {ridge_cv_all.score(Z_all, y)}, MSE = {MSE}, RMSE = {RMSE}\"\n",
    "\n",
    "log_mod_runon_all_reg(feats_updated)"
   ]
  },
  {
   "cell_type": "code",
   "execution_count": null,
   "id": "8efbbf21-4c11-4cf1-898b-757648a606fe",
   "metadata": {},
   "outputs": [],
   "source": []
  },
  {
   "cell_type": "code",
   "execution_count": null,
   "id": "c50c5373-9955-4b0e-a2df-ec7573419f32",
   "metadata": {},
   "outputs": [],
   "source": []
  },
  {
   "cell_type": "code",
   "execution_count": null,
   "id": "4ad6751a-dbe9-46ec-8f2b-2c82db34d397",
   "metadata": {},
   "outputs": [],
   "source": []
  },
  {
   "cell_type": "code",
   "execution_count": null,
   "id": "34ba9356-8956-48b2-b3c7-c79a1c2216a5",
   "metadata": {},
   "outputs": [],
   "source": []
  },
  {
   "cell_type": "code",
   "execution_count": null,
   "id": "89f60b22-9b2f-4eda-91a5-1930de03471b",
   "metadata": {},
   "outputs": [],
   "source": []
  },
  {
   "cell_type": "code",
   "execution_count": null,
   "id": "d953bd1c-9ea6-45ee-b881-94f83ad3483e",
   "metadata": {},
   "outputs": [],
   "source": []
  },
  {
   "cell_type": "code",
   "execution_count": null,
   "id": "06f84d75-2fc7-47b7-9ebb-33809cfd2acd",
   "metadata": {},
   "outputs": [],
   "source": []
  },
  {
   "cell_type": "code",
   "execution_count": null,
   "id": "87c7b5c6-d9bd-41d9-98c9-cc0cb38af5f9",
   "metadata": {},
   "outputs": [],
   "source": []
  },
  {
   "cell_type": "code",
   "execution_count": null,
   "id": "0a27f9c9-cd32-429f-b2c6-34aff3304594",
   "metadata": {},
   "outputs": [],
   "source": []
  },
  {
   "cell_type": "code",
   "execution_count": null,
   "id": "5250bf5f-ade1-4978-aa57-bc3bb9d6b7ac",
   "metadata": {},
   "outputs": [],
   "source": []
  },
  {
   "cell_type": "code",
   "execution_count": null,
   "id": "1900e803-87f4-493b-8374-9a1cd5c6f214",
   "metadata": {},
   "outputs": [],
   "source": []
  },
  {
   "cell_type": "code",
   "execution_count": null,
   "id": "48bb8b96-e815-4f1f-be12-cab72244af1c",
   "metadata": {},
   "outputs": [],
   "source": [
    "# SUBMISSION HISTORY\n",
    "\n",
    "\n",
    "# first submission = ['Overall Qual', 'Year Built', 'Year Remod/Add', 'BsmtFin SF 1', 'Total Bsmt SF', 'Gr Liv Area', 'Full Bath', 'Fireplaces', 'Garage Area']\n",
    "# 6/2 submission = ['overall_qual', 'year_built', 'year_remod', 'total_bsmt_sf', 'gr_liv_area', 'full_bath', 'fireplaces', 'garage_area']\n",
    "# 6/3 8:30P submission = ['overall_qual', 'year_built', 'year_remod', 'total_bsmt_sf', 'gr_liv_area', 'full_bath', 'fireplaces', 'garage_area', 'age', 'was_remod', 'bsmt_cat_finished','bsmt_cat_unfinished']\n",
    "# 6/3 10P submission = ['overall_qual', 'year_built', 'year_remod', 'total_bsmt_sf', 'gr_liv_area', 'full_bath', 'fireplaces', 'age', 'garage_area', 'kitchen_qual_Fa', 'kitchen_qual_Gd', 'kitchen_qual_TA', 'was_remod', 'bsmt_cat_finished','bsmt_cat_unfinished', 'grg_qual_num', 'garage_cat_finished', 'garage_cat_unfinished', 'cond12_feeder_st', 'cond12_near_park', 'cond12_near_rr', 'cond12_norm', 'lotconfig_culdsac', 'lotconfig_inside', 'hi_bsmt_exposure', 'nbr_rank']"
   ]
  },
  {
   "cell_type": "code",
   "execution_count": null,
   "id": "84dd5733-133c-4c57-a66d-b3a545162b85",
   "metadata": {},
   "outputs": [],
   "source": [
    "# Interpreting Log transformations in a linear model: https://data.library.virginia.edu/interpreting-log-transformations-in-a-linear-model/"
   ]
  },
  {
   "cell_type": "code",
   "execution_count": null,
   "id": "2df64bd6-1a96-472f-8923-b4beef7c0fdd",
   "metadata": {},
   "outputs": [],
   "source": []
  },
  {
   "cell_type": "code",
   "execution_count": null,
   "id": "6d8cbadc-234a-431d-bfe9-25476e9b907a",
   "metadata": {},
   "outputs": [],
   "source": []
  },
  {
   "cell_type": "code",
   "execution_count": null,
   "id": "f556c1cb-aa5a-442e-9501-417197f35c90",
   "metadata": {},
   "outputs": [],
   "source": []
  },
  {
   "cell_type": "code",
   "execution_count": null,
   "id": "5bbee711-bddf-479b-8242-33bb9580cce2",
   "metadata": {},
   "outputs": [],
   "source": []
  },
  {
   "cell_type": "code",
   "execution_count": null,
   "id": "19eed793-f602-4269-8a7a-089c62d9aada",
   "metadata": {},
   "outputs": [],
   "source": []
  },
  {
   "cell_type": "code",
   "execution_count": null,
   "id": "437917ad-b5e1-4d8e-ab90-4304b64ab85b",
   "metadata": {},
   "outputs": [],
   "source": []
  },
  {
   "cell_type": "code",
   "execution_count": null,
   "id": "3e2a31c3-d1b8-4186-953a-997f0b24b7d9",
   "metadata": {},
   "outputs": [],
   "source": [
    "'Training R2: 0.8921525700749652, Testing R2: 0.8386870855035922, MSE: 708822632.901252, RMSE: 26623.72312245701'"
   ]
  },
  {
   "cell_type": "code",
   "execution_count": null,
   "id": "4e364e3f-934b-4a79-b962-32408ec774ed",
   "metadata": {},
   "outputs": [],
   "source": [
    "'Full Data R2: 0.8790630647367969, MSE = 628333111.7919718, RMSE = 25066.573594968497'"
   ]
  },
  {
   "cell_type": "code",
   "execution_count": null,
   "id": "dca12fb2-2576-478b-9c21-06d045b09034",
   "metadata": {},
   "outputs": [],
   "source": []
  },
  {
   "cell_type": "code",
   "execution_count": null,
   "id": "5dd7c9e3-5459-4e48-9e83-5bf293b6cc44",
   "metadata": {},
   "outputs": [],
   "source": []
  },
  {
   "cell_type": "code",
   "execution_count": null,
   "id": "e5d39208-3cdc-44ab-b788-93325797c1c4",
   "metadata": {},
   "outputs": [],
   "source": [
    "'Training R2: 0.8966273309464855, Testing R2: 0.8405937419909588, MSE: 670075440.0093209, RMSE: 25885.81542098531'"
   ]
  },
  {
   "cell_type": "code",
   "execution_count": null,
   "id": "69ee094c-0a1e-480f-a1fa-1a5cb50a5659",
   "metadata": {},
   "outputs": [],
   "source": [
    "'Full Data R2: 0.8829099879875415, MSE = 582529034.6266086, RMSE = 24135.638268473627'"
   ]
  },
  {
   "cell_type": "code",
   "execution_count": null,
   "id": "b0a6e52c-040b-4642-a83f-0c7467b486db",
   "metadata": {},
   "outputs": [],
   "source": []
  },
  {
   "cell_type": "code",
   "execution_count": null,
   "id": "9b06d479-17ba-4263-af5f-7b771dab2a55",
   "metadata": {},
   "outputs": [],
   "source": [
    "'Training R2: 0.899604693015945, Testing R2: 0.8417923789760717, MSE: 669342144.1531007, RMSE: 25871.647495919173'"
   ]
  },
  {
   "cell_type": "code",
   "execution_count": null,
   "id": "e62e260f-8e2e-4ecc-b69d-46628f8e0c48",
   "metadata": {},
   "outputs": [],
   "source": [
    "'Full Data R2: 0.8855391285382741, MSE = 568967239.703276, RMSE = 23853.03418232733'"
   ]
  },
  {
   "cell_type": "code",
   "execution_count": null,
   "id": "765e148a-e35f-447d-9c4e-0b80d35bca42",
   "metadata": {},
   "outputs": [],
   "source": []
  },
  {
   "cell_type": "code",
   "execution_count": null,
   "id": "15c2fa82-9a24-4eeb-b2e3-ad11a268160d",
   "metadata": {},
   "outputs": [],
   "source": [
    "'Training R2: 0.9008216061613761, Testing R2: 0.8439859776639766, MSE: 651311530.0776106, RMSE: 25520.805827356053'"
   ]
  },
  {
   "cell_type": "code",
   "execution_count": null,
   "id": "8282080a-3a1a-4059-80ef-583dbdd6bd0b",
   "metadata": {},
   "outputs": [],
   "source": [
    "'Full Data R2: 0.8870332739007128, MSE = 552934634.5430821, RMSE = 23514.56218055276'"
   ]
  },
  {
   "cell_type": "code",
   "execution_count": null,
   "id": "d92c92f8-ee0c-4eea-8463-195e69fb7239",
   "metadata": {},
   "outputs": [],
   "source": []
  },
  {
   "cell_type": "code",
   "execution_count": null,
   "id": "6d1c32c5-fc1a-42d0-9b8b-677cc4d16d46",
   "metadata": {},
   "outputs": [],
   "source": []
  },
  {
   "cell_type": "code",
   "execution_count": null,
   "id": "e3ea5bfc-95d7-4fc1-9683-9ce26bd42be5",
   "metadata": {},
   "outputs": [],
   "source": [
    "'Training R2: 0.9027066907883885, Testing R2: 0.8469346326344672, MSE: 646650684.6715598, RMSE: 25429.32725558346'"
   ]
  },
  {
   "cell_type": "code",
   "execution_count": null,
   "id": "dc841266-058d-4674-9051-5912adeb384b",
   "metadata": {},
   "outputs": [],
   "source": [
    "'Full Data R2: 0.8891974819498465, MSE = 546453367.2372748, RMSE = 23376.342041416035'\n",
    "\n",
    "feats_updated = ['overall_qual', 'year_built', 'year_remod', 'total_bsmt_sf', 'gr_liv_area', 'full_bath', 'fireplaces', 'age', 'garage_area', 'kitchen_qual_Fa',\n",
    " 'kitchen_qual_Gd', 'kitchen_qual_TA', 'was_remod', 'bsmt_cat_finished','bsmt_cat_unfinished', 'grg_qual_num', 'garage_cat_finished', 'garage_cat_unfinished', 'cond12_feeder_st',\n",
    " 'cond12_near_park', 'cond12_near_rr', 'cond12_norm', 'lotconfig_culdsac', 'lotconfig_inside', 'hi_bsmt_exposure', 'nbr_rank']"
   ]
  },
  {
   "cell_type": "code",
   "execution_count": null,
   "id": "98b9b179-6d09-4867-b382-905d562ed03a",
   "metadata": {},
   "outputs": [],
   "source": []
  },
  {
   "cell_type": "code",
   "execution_count": null,
   "id": "5c5f4dcb-4673-4426-a0d8-5b5f16052d69",
   "metadata": {},
   "outputs": [],
   "source": []
  },
  {
   "cell_type": "code",
   "execution_count": null,
   "id": "b2d8a557-a50a-4dcc-a2a5-078f71276b89",
   "metadata": {},
   "outputs": [],
   "source": []
  },
  {
   "cell_type": "code",
   "execution_count": null,
   "id": "448608dc-a040-435c-a06d-37981eb84eed",
   "metadata": {},
   "outputs": [],
   "source": []
  },
  {
   "cell_type": "code",
   "execution_count": null,
   "id": "86f8c755-1495-4519-8111-641fdb72775a",
   "metadata": {},
   "outputs": [],
   "source": []
  },
  {
   "cell_type": "code",
   "execution_count": null,
   "id": "95ea6350-76d2-4317-884a-422bc25c0008",
   "metadata": {},
   "outputs": [],
   "source": []
  },
  {
   "cell_type": "code",
   "execution_count": null,
   "id": "d6d4c3bc-0b79-42b7-bc6b-1b5e63fba78f",
   "metadata": {},
   "outputs": [],
   "source": [
    "fireplace qual\n",
    "garage qual\n",
    "has pool\n",
    "amenities_scr"
   ]
  },
  {
   "cell_type": "code",
   "execution_count": null,
   "id": "2034f5a7-f307-4a57-aa1c-f9853f8201b1",
   "metadata": {},
   "outputs": [],
   "source": []
  }
 ],
 "metadata": {
  "kernelspec": {
   "display_name": "Python 3 (ipykernel)",
   "language": "python",
   "name": "python3"
  },
  "language_info": {
   "codemirror_mode": {
    "name": "ipython",
    "version": 3
   },
   "file_extension": ".py",
   "mimetype": "text/x-python",
   "name": "python",
   "nbconvert_exporter": "python",
   "pygments_lexer": "ipython3",
   "version": "3.10.9"
  }
 },
 "nbformat": 4,
 "nbformat_minor": 5
}
